{
 "cells": [
  {
   "cell_type": "markdown",
   "metadata": {},
   "source": [
    "# Homework - Part 3 - Gaussian Naive Bayes - Implement"
   ]
  },
  {
   "cell_type": "markdown",
   "metadata": {
    "collapsed": true
   },
   "source": [
    "1. Implement Gaussian NB for the data below. This means: calculate prior probabilities and conditional pdfs \n",
    "2. Compare test results to those obtained by sklearn Gaussian NB\n",
    "3. Explain why the second to last (9th) test sample has label 1 and not 0\n"
   ]
  },
  {
   "cell_type": "code",
   "execution_count": 1,
   "metadata": {},
   "outputs": [],
   "source": [
    "# Data\n",
    "import numpy as np\n",
    "X_train = np.asarray([25.2, 19.3, 18.5, 21.7, 20.1, 24.3, 22.8, 23.1, 19.8,   # class 0\n",
    "                      27.3, 30.1, 17.4, 29.5, 15.1]).reshape(-1,1)            # class 1\n",
    "                     \n",
    "y_train = np.asarray([0,0,0,0,0,0,0,0,0,1,1,1,1,1])\n",
    "\n",
    "X_test = np.asarray([17.1, 21.8, 18.1, 31.7, 39.2, 20.4, 27.1, 30.2, 7.1, 25.4]).reshape(-1,1)       \n",
    "y_test = np.asarray([  0,   0,    0,    1,    1,    0,    1,     1,    1,   0])        "
   ]
  },
  {
   "cell_type": "markdown",
   "metadata": {},
   "source": [
    "# 1 -  Implement Gaussian NB "
   ]
  },
  {
   "cell_type": "code",
   "execution_count": 2,
   "metadata": {},
   "outputs": [],
   "source": [
    "import numpy as np\n",
    "\n",
    "# Calculate the prior probabilities of the classes in the training set\n",
    "prior_probs = np.bincount(y_train) / len(y_train)"
   ]
  },
  {
   "cell_type": "code",
   "execution_count": 3,
   "metadata": {},
   "outputs": [
    {
     "name": "stdout",
     "output_type": "stream",
     "text": [
      "Prior probabilities: [0.64285714 0.35714286]\n"
     ]
    }
   ],
   "source": [
    "print(\"Prior probabilities:\", prior_probs)"
   ]
  },
  {
   "cell_type": "code",
   "execution_count": 16,
   "metadata": {},
   "outputs": [
    {
     "name": "stdout",
     "output_type": "stream",
     "text": [
      "Conditional pdf of class 0:\n",
      "[0.02208519]\n",
      "[0.17933027]\n",
      "[0.05020757]\n",
      "[6.25509981e-06]\n",
      "[4.62583396e-15]\n",
      "[0.15361563]\n",
      "[0.00875709]\n",
      "[0.00010646]\n",
      "[8.45527793e-11]\n",
      "[0.04293546]\n",
      "Conditional pdf of class 1:\n",
      "[0.03552207]\n",
      "[0.05961849]\n",
      "[0.04152666]\n",
      "[0.02941026]\n",
      "[0.0033983]\n",
      "[0.05411833]\n",
      "[0.0553034]\n",
      "[0.03828608]\n",
      "[0.00189744]\n",
      "[0.06113194]\n"
     ]
    }
   ],
   "source": [
    "mean_class0 = np.mean(X_train[y_train == 0])\n",
    "std_class0 = np.std(X_train[y_train == 0])\n",
    "\n",
    "mean_class1 = np.mean(X_train[y_train == 1])\n",
    "std_class1 = np.std(X_train[y_train == 1])\n",
    "\n",
    "# creating a function that calculate pdf\n",
    "\n",
    "def pdf(x, mean, std):\n",
    "    exponent = np.exp(-((x - mean)**2 / (2 * std**2)))\n",
    "    return (1 / (np.sqrt(2 * np.pi) * std)) * exponent\n",
    "\n",
    "print(\"Conditional pdf of class 0:\")\n",
    "\n",
    "for i in range(len(X_test)):\n",
    "    print(pdf(X_test[i], mean_class0, std_class0))\n",
    "\n",
    "print(\"Conditional pdf of class 1:\")\n",
    "for i in range(len(X_test)):\n",
    "    print(pdf(X_test[i], mean_class1, std_class1))"
   ]
  },
  {
   "cell_type": "code",
   "execution_count": 21,
   "metadata": {},
   "outputs": [
    {
     "name": "stdout",
     "output_type": "stream",
     "text": [
      "Predictions: [0, 0, 0, 1, 1, 0, 1, 1, 1, 0]\n",
      "True labels: [0 0 0 1 1 0 1 1 1 0]\n"
     ]
    }
   ],
   "source": [
    "predictions = []\n",
    "for x in X_test:\n",
    "    # Calculate likelihood for each class\n",
    "    likelihood_class0 = pdf(x, mean_class0, std_class0)\n",
    "    likelihood_class1 = pdf(x, mean_class1, std_class1)\n",
    "\n",
    "    # Calculate posterior probability for each class\n",
    "    posterior_class0 = likelihood_class0 * prior_probs[0]\n",
    "    posterior_class1 = likelihood_class1 * prior_probs[1]\n",
    "\n",
    "    # Choose class with highest probability\n",
    "    if posterior_class0 > posterior_class1:\n",
    "        predictions.append(0)\n",
    "    else:\n",
    "        predictions.append(1)\n",
    "\n",
    "print('Predictions:', predictions)\n",
    "print('True labels:', y_test)"
   ]
  },
  {
   "cell_type": "markdown",
   "metadata": {},
   "source": [
    "# 2 - Comparing test results "
   ]
  },
  {
   "cell_type": "code",
   "execution_count": 12,
   "metadata": {},
   "outputs": [
    {
     "name": "stdout",
     "output_type": "stream",
     "text": [
      "Actual Value: [0 0 0 1 1 0 1 1 1 0]\n",
      "Predicted Value: [0 0 0 1 1 0 1 1 1 0]\n"
     ]
    }
   ],
   "source": [
    "from sklearn.naive_bayes import GaussianNB\n",
    "\n",
    "# Build a Gaussian Classifier\n",
    "model = GaussianNB()\n",
    "\n",
    "# Model training\n",
    "model.fit(X_train, y_train)\n",
    "\n",
    "# Predict Output\n",
    "y_test_pred = model.predict(X_test)\n",
    "\n",
    "#checking the model\n",
    "print(\"Actual Value:\", y_test)\n",
    "print(\"Predicted Value:\", y_test_pred)"
   ]
  },
  {
   "cell_type": "markdown",
   "metadata": {},
   "source": [
    "### As we can see both the test result of implementing Gaussian NB and the sklearn Gaussian NB did the same job and predict 100% of the test."
   ]
  },
  {
   "cell_type": "markdown",
   "metadata": {},
   "source": [
    "# 3 - "
   ]
  },
  {
   "cell_type": "markdown",
   "metadata": {},
   "source": [
    "### As we can see in the test instances, the secend to last is determent as the lowest number(7.1) from all the instances by far. By that this number acting as an outlaier of the data by being diffrent even from the train instances(the lowest is 15.1 with class 1). The GNB is calculating the best chance to classfy in each class, so we can see that the most lowest number is classify as class 1 and the lowest number for class 0 is 18.5. "
   ]
  },
  {
   "cell_type": "code",
   "execution_count": null,
   "metadata": {},
   "outputs": [],
   "source": []
  }
 ],
 "metadata": {
  "kernelspec": {
   "display_name": "Python 3 (ipykernel)",
   "language": "python",
   "name": "python3"
  },
  "language_info": {
   "codemirror_mode": {
    "name": "ipython",
    "version": 3
   },
   "file_extension": ".py",
   "mimetype": "text/x-python",
   "name": "python",
   "nbconvert_exporter": "python",
   "pygments_lexer": "ipython3",
   "version": "3.9.13"
  }
 },
 "nbformat": 4,
 "nbformat_minor": 2
}
