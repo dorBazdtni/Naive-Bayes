{
 "cells": [
  {
   "cell_type": "markdown",
   "metadata": {},
   "source": [
    "# Homework - Part 1 - Naive Bayes"
   ]
  },
  {
   "cell_type": "markdown",
   "metadata": {},
   "source": [
    "# Naive Bayes"
   ]
  },
  {
   "cell_type": "markdown",
   "metadata": {},
   "source": [
    "## Spam detector for SMS messages\n",
    "\n",
    "We will use Naive Bayes method to calssify SMS messages as spam or ham (i.e., non-spam). To that end, we will use three libraries:\n",
    "1. skllearn - for Naive Bayes\n",
    "2. pandas - for data handling\n",
    "3. nltk - for manipulation of text\n",
    "\n"
   ]
  },
  {
   "cell_type": "markdown",
   "metadata": {},
   "source": [
    "## 1. Loading data\n",
    "\n",
    "The SMS Spam Collection contains 5,572 messages, tagged according being ham (legitimate) or spam. \n",
    "The dataset has the format [label] [tab] [message], which looks something like this:\n",
    "\n",
    "ham &emsp; Go until jurong point, crazy.. Available only in bugis n great world la e buffet... Cine there got amore wat... <br>\n",
    "ham &emsp; Ok lar... Joking wif u oni... <br>\n",
    "ham\t&emsp; U dun say so early hor... U c already then say..."
   ]
  },
  {
   "cell_type": "code",
   "execution_count": 1,
   "metadata": {},
   "outputs": [],
   "source": [
    "import pandas as pd\n",
    "\n",
    "df = pd.read_csv('SMSSpamCollection', \n",
    "                   sep='\\t', \n",
    "                   header=None,\n",
    "                   names=['label', 'message'])"
   ]
  },
  {
   "cell_type": "code",
   "execution_count": 2,
   "metadata": {},
   "outputs": [
    {
     "data": {
      "text/html": [
       "<div>\n",
       "<style scoped>\n",
       "    .dataframe tbody tr th:only-of-type {\n",
       "        vertical-align: middle;\n",
       "    }\n",
       "\n",
       "    .dataframe tbody tr th {\n",
       "        vertical-align: top;\n",
       "    }\n",
       "\n",
       "    .dataframe thead th {\n",
       "        text-align: right;\n",
       "    }\n",
       "</style>\n",
       "<table border=\"1\" class=\"dataframe\">\n",
       "  <thead>\n",
       "    <tr style=\"text-align: right;\">\n",
       "      <th></th>\n",
       "      <th>label</th>\n",
       "      <th>message</th>\n",
       "    </tr>\n",
       "  </thead>\n",
       "  <tbody>\n",
       "    <tr>\n",
       "      <th>0</th>\n",
       "      <td>ham</td>\n",
       "      <td>Go until jurong point, crazy.. Available only ...</td>\n",
       "    </tr>\n",
       "    <tr>\n",
       "      <th>1</th>\n",
       "      <td>ham</td>\n",
       "      <td>Ok lar... Joking wif u oni...</td>\n",
       "    </tr>\n",
       "    <tr>\n",
       "      <th>2</th>\n",
       "      <td>spam</td>\n",
       "      <td>Free entry in 2 a wkly comp to win FA Cup fina...</td>\n",
       "    </tr>\n",
       "    <tr>\n",
       "      <th>3</th>\n",
       "      <td>ham</td>\n",
       "      <td>U dun say so early hor... U c already then say...</td>\n",
       "    </tr>\n",
       "    <tr>\n",
       "      <th>4</th>\n",
       "      <td>ham</td>\n",
       "      <td>Nah I don't think he goes to usf, he lives aro...</td>\n",
       "    </tr>\n",
       "    <tr>\n",
       "      <th>5</th>\n",
       "      <td>spam</td>\n",
       "      <td>FreeMsg Hey there darling it's been 3 week's n...</td>\n",
       "    </tr>\n",
       "    <tr>\n",
       "      <th>6</th>\n",
       "      <td>ham</td>\n",
       "      <td>Even my brother is not like to speak with me. ...</td>\n",
       "    </tr>\n",
       "    <tr>\n",
       "      <th>7</th>\n",
       "      <td>ham</td>\n",
       "      <td>As per your request 'Melle Melle (Oru Minnamin...</td>\n",
       "    </tr>\n",
       "    <tr>\n",
       "      <th>8</th>\n",
       "      <td>spam</td>\n",
       "      <td>WINNER!! As a valued network customer you have...</td>\n",
       "    </tr>\n",
       "    <tr>\n",
       "      <th>9</th>\n",
       "      <td>spam</td>\n",
       "      <td>Had your mobile 11 months or more? U R entitle...</td>\n",
       "    </tr>\n",
       "  </tbody>\n",
       "</table>\n",
       "</div>"
      ],
      "text/plain": [
       "  label                                            message\n",
       "0   ham  Go until jurong point, crazy.. Available only ...\n",
       "1   ham                      Ok lar... Joking wif u oni...\n",
       "2  spam  Free entry in 2 a wkly comp to win FA Cup fina...\n",
       "3   ham  U dun say so early hor... U c already then say...\n",
       "4   ham  Nah I don't think he goes to usf, he lives aro...\n",
       "5  spam  FreeMsg Hey there darling it's been 3 week's n...\n",
       "6   ham  Even my brother is not like to speak with me. ...\n",
       "7   ham  As per your request 'Melle Melle (Oru Minnamin...\n",
       "8  spam  WINNER!! As a valued network customer you have...\n",
       "9  spam  Had your mobile 11 months or more? U R entitle..."
      ]
     },
     "execution_count": 2,
     "metadata": {},
     "output_type": "execute_result"
    }
   ],
   "source": [
    "df.head(10)"
   ]
  },
  {
   "cell_type": "markdown",
   "metadata": {
    "collapsed": true
   },
   "source": [
    "## 2. Data Preprocessing"
   ]
  },
  {
   "cell_type": "markdown",
   "metadata": {},
   "source": [
    "### Exercise:\n",
    "Do the following:\n",
    "1. Change the labels of ham into 0 and spam into 1\n",
    "2. Convert all messages to lower case\n",
    "3. Find the distribution of messages. Namely, how many spam and how many ham SMS messages there are. What is their percetage of total messages?"
   ]
  },
  {
   "cell_type": "markdown",
   "metadata": {},
   "source": [
    "### Solution:"
   ]
  },
  {
   "cell_type": "code",
   "execution_count": 3,
   "metadata": {},
   "outputs": [],
   "source": [
    "# Part 1 - change ham to 0 and spam to 1\n",
    "df['label'] = df['label'].replace({\"ham\": 0, \"spam\": 1})\n"
   ]
  },
  {
   "cell_type": "code",
   "execution_count": 4,
   "metadata": {},
   "outputs": [],
   "source": [
    "# Part 2:  Convert to lower case\n",
    "df['message'] = df['message'].str.lower()"
   ]
  },
  {
   "cell_type": "code",
   "execution_count": 5,
   "metadata": {},
   "outputs": [
    {
     "name": "stdout",
     "output_type": "stream",
     "text": [
      "0    4825\n",
      "1     747\n",
      "Name: label, dtype: int64\n"
     ]
    },
    {
     "data": {
      "text/plain": [
       "0    86.593683\n",
       "1    13.406317\n",
       "Name: label, dtype: float64"
      ]
     },
     "execution_count": 5,
     "metadata": {},
     "output_type": "execute_result"
    }
   ],
   "source": [
    "# Part 3 - number of SMS messages of each type\n",
    "count = df['label'].value_counts() #the number of spam masseges is 747 and non spam 4825\n",
    "print(count)\n",
    "100*count/len(df) #the precentage of spam masseges is 13.40% and non spam 86.59%\n"
   ]
  },
  {
   "cell_type": "markdown",
   "metadata": {},
   "source": [
    "\n",
    "\n",
    "--------"
   ]
  },
  {
   "cell_type": "code",
   "execution_count": 6,
   "metadata": {},
   "outputs": [
    {
     "data": {
      "text/html": [
       "<div>\n",
       "<style scoped>\n",
       "    .dataframe tbody tr th:only-of-type {\n",
       "        vertical-align: middle;\n",
       "    }\n",
       "\n",
       "    .dataframe tbody tr th {\n",
       "        vertical-align: top;\n",
       "    }\n",
       "\n",
       "    .dataframe thead th {\n",
       "        text-align: right;\n",
       "    }\n",
       "</style>\n",
       "<table border=\"1\" class=\"dataframe\">\n",
       "  <thead>\n",
       "    <tr style=\"text-align: right;\">\n",
       "      <th></th>\n",
       "      <th>label</th>\n",
       "      <th>message</th>\n",
       "    </tr>\n",
       "  </thead>\n",
       "  <tbody>\n",
       "    <tr>\n",
       "      <th>0</th>\n",
       "      <td>0</td>\n",
       "      <td>go until jurong point, crazy.. available only ...</td>\n",
       "    </tr>\n",
       "    <tr>\n",
       "      <th>1</th>\n",
       "      <td>0</td>\n",
       "      <td>ok lar... joking wif u oni...</td>\n",
       "    </tr>\n",
       "    <tr>\n",
       "      <th>2</th>\n",
       "      <td>1</td>\n",
       "      <td>free entry in 2 a wkly comp to win fa cup fina...</td>\n",
       "    </tr>\n",
       "    <tr>\n",
       "      <th>3</th>\n",
       "      <td>0</td>\n",
       "      <td>u dun say so early hor... u c already then say...</td>\n",
       "    </tr>\n",
       "    <tr>\n",
       "      <th>4</th>\n",
       "      <td>0</td>\n",
       "      <td>nah i don't think he goes to usf, he lives aro...</td>\n",
       "    </tr>\n",
       "  </tbody>\n",
       "</table>\n",
       "</div>"
      ],
      "text/plain": [
       "   label                                            message\n",
       "0      0  go until jurong point, crazy.. available only ...\n",
       "1      0                      ok lar... joking wif u oni...\n",
       "2      1  free entry in 2 a wkly comp to win fa cup fina...\n",
       "3      0  u dun say so early hor... u c already then say...\n",
       "4      0  nah i don't think he goes to usf, he lives aro..."
      ]
     },
     "execution_count": 6,
     "metadata": {},
     "output_type": "execute_result"
    }
   ],
   "source": [
    "# part 4 - provided free of charge. \n",
    "# removinhg punctuation\n",
    "\n",
    "df['message'] = df['message'].str.strip()\n",
    "#df['message'] = df.message.str.replace('[^\\w\\s]', '')  # option 2\n",
    "df.head()"
   ]
  },
  {
   "cell_type": "markdown",
   "metadata": {},
   "source": [
    "## 3. Data preprocessing using nltk package\n",
    "\n",
    "nltk - natural language toolkit package is a package that processes text. We will use it to separate words and use their counts.\n",
    "\n",
    "But first, let's see how this works"
   ]
  },
  {
   "cell_type": "markdown",
   "metadata": {},
   "source": [
    "### nltk example"
   ]
  },
  {
   "cell_type": "code",
   "execution_count": 7,
   "metadata": {},
   "outputs": [],
   "source": [
    "import nltk"
   ]
  },
  {
   "cell_type": "code",
   "execution_count": 8,
   "metadata": {},
   "outputs": [
    {
     "name": "stderr",
     "output_type": "stream",
     "text": [
      "[nltk_data] Downloading package punkt to\n",
      "[nltk_data]     C:\\Users\\dorba\\AppData\\Roaming\\nltk_data...\n",
      "[nltk_data]   Package punkt is already up-to-date!\n"
     ]
    },
    {
     "data": {
      "text/plain": [
       "['At',\n",
       " 'eight',\n",
       " \"o'clock\",\n",
       " 'on',\n",
       " 'Thursday',\n",
       " 'morning',\n",
       " 'Arthur',\n",
       " 'did',\n",
       " \"n't\",\n",
       " 'feel',\n",
       " 'very',\n",
       " 'good']"
      ]
     },
     "execution_count": 8,
     "metadata": {},
     "output_type": "execute_result"
    }
   ],
   "source": [
    "nltk.download('punkt') #- in case stuff is missing/not working\n",
    "\n",
    "# break sentence into tokens (words)\n",
    "sentence = 'At eight o\\'clock on Thursday morning Arthur didn\\'t feel very good '\n",
    "tokens = nltk.word_tokenize(sentence)\n",
    "tokens\n",
    "\n"
   ]
  },
  {
   "cell_type": "code",
   "execution_count": 9,
   "metadata": {},
   "outputs": [
    {
     "name": "stdout",
     "output_type": "stream",
     "text": [
      "python\n",
      "python\n",
      "python\n",
      "python\n",
      "python\n",
      "pythonli\n",
      "python\n"
     ]
    }
   ],
   "source": [
    "# Remove tenses and conjugations of words\n",
    "from nltk.stem import PorterStemmer\n",
    "\n",
    "ps = PorterStemmer()   # this is a particular algoirthm\n",
    "\n",
    "\n",
    "example_words = [\"python\",\"pythoner\",\"pythoning\",\"pythoned\", \"pythoned\", \"pythonly\", \"pythonant\"]\n",
    "for w in example_words:\n",
    "    print(ps.stem(w))    \n",
    "    "
   ]
  },
  {
   "cell_type": "code",
   "execution_count": 10,
   "metadata": {},
   "outputs": [
    {
     "name": "stdout",
     "output_type": "stream",
     "text": [
      "it is import to be veri pythonli while you are python with python . all python have python poorli at least onc .\n"
     ]
    }
   ],
   "source": [
    "text = \"It is important to be very pythonly while you are pythoning with python. \\\n",
    "            All pythoners have pythoned poorly at least once.\"\n",
    "\n",
    "words = nltk.word_tokenize(text)\n",
    "new_text = []\n",
    "for w in words:\n",
    "    #print(ps.stem(w))\n",
    "    new_text.append(ps.stem(w))\n",
    "    \n",
    "print (' '.join(new_text))"
   ]
  },
  {
   "cell_type": "markdown",
   "metadata": {},
   "source": [
    "### Back to SMS messages"
   ]
  },
  {
   "cell_type": "markdown",
   "metadata": {},
   "source": [
    "Separating messages into words - i.e., tokenizing"
   ]
  },
  {
   "cell_type": "code",
   "execution_count": 11,
   "metadata": {},
   "outputs": [],
   "source": [
    "df2 = df.copy()\n",
    "df2['message'] = df2['message'].apply(nltk.word_tokenize)  \n",
    "\n",
    "# NOTE: using df2, because otherwise you can't run this twice. \n",
    "# word_tokenize takes as argument a string, and after this is done,\n",
    "# the contents of df['message'] is a list"
   ]
  },
  {
   "cell_type": "code",
   "execution_count": 12,
   "metadata": {},
   "outputs": [
    {
     "data": {
      "text/html": [
       "<div>\n",
       "<style scoped>\n",
       "    .dataframe tbody tr th:only-of-type {\n",
       "        vertical-align: middle;\n",
       "    }\n",
       "\n",
       "    .dataframe tbody tr th {\n",
       "        vertical-align: top;\n",
       "    }\n",
       "\n",
       "    .dataframe thead th {\n",
       "        text-align: right;\n",
       "    }\n",
       "</style>\n",
       "<table border=\"1\" class=\"dataframe\">\n",
       "  <thead>\n",
       "    <tr style=\"text-align: right;\">\n",
       "      <th></th>\n",
       "      <th>label</th>\n",
       "      <th>message</th>\n",
       "    </tr>\n",
       "  </thead>\n",
       "  <tbody>\n",
       "    <tr>\n",
       "      <th>0</th>\n",
       "      <td>0</td>\n",
       "      <td>[go, until, jurong, point, ,, crazy, .., avail...</td>\n",
       "    </tr>\n",
       "    <tr>\n",
       "      <th>1</th>\n",
       "      <td>0</td>\n",
       "      <td>[ok, lar, ..., joking, wif, u, oni, ...]</td>\n",
       "    </tr>\n",
       "    <tr>\n",
       "      <th>2</th>\n",
       "      <td>1</td>\n",
       "      <td>[free, entry, in, 2, a, wkly, comp, to, win, f...</td>\n",
       "    </tr>\n",
       "    <tr>\n",
       "      <th>3</th>\n",
       "      <td>0</td>\n",
       "      <td>[u, dun, say, so, early, hor, ..., u, c, alrea...</td>\n",
       "    </tr>\n",
       "    <tr>\n",
       "      <th>4</th>\n",
       "      <td>0</td>\n",
       "      <td>[nah, i, do, n't, think, he, goes, to, usf, ,,...</td>\n",
       "    </tr>\n",
       "  </tbody>\n",
       "</table>\n",
       "</div>"
      ],
      "text/plain": [
       "   label                                            message\n",
       "0      0  [go, until, jurong, point, ,, crazy, .., avail...\n",
       "1      0           [ok, lar, ..., joking, wif, u, oni, ...]\n",
       "2      1  [free, entry, in, 2, a, wkly, comp, to, win, f...\n",
       "3      0  [u, dun, say, so, early, hor, ..., u, c, alrea...\n",
       "4      0  [nah, i, do, n't, think, he, goes, to, usf, ,,..."
      ]
     },
     "execution_count": 12,
     "metadata": {},
     "output_type": "execute_result"
    }
   ],
   "source": [
    "df2.head()"
   ]
  },
  {
   "cell_type": "markdown",
   "metadata": {},
   "source": [
    "Applying Porter Stemmer to the words of each message"
   ]
  },
  {
   "cell_type": "code",
   "execution_count": 13,
   "metadata": {},
   "outputs": [],
   "source": [
    "df2['message'] = df2['message'].apply(lambda x: [ps.stem(y) for y in x])"
   ]
  },
  {
   "cell_type": "code",
   "execution_count": 14,
   "metadata": {},
   "outputs": [
    {
     "data": {
      "text/html": [
       "<div>\n",
       "<style scoped>\n",
       "    .dataframe tbody tr th:only-of-type {\n",
       "        vertical-align: middle;\n",
       "    }\n",
       "\n",
       "    .dataframe tbody tr th {\n",
       "        vertical-align: top;\n",
       "    }\n",
       "\n",
       "    .dataframe thead th {\n",
       "        text-align: right;\n",
       "    }\n",
       "</style>\n",
       "<table border=\"1\" class=\"dataframe\">\n",
       "  <thead>\n",
       "    <tr style=\"text-align: right;\">\n",
       "      <th></th>\n",
       "      <th>label</th>\n",
       "      <th>message</th>\n",
       "    </tr>\n",
       "  </thead>\n",
       "  <tbody>\n",
       "    <tr>\n",
       "      <th>0</th>\n",
       "      <td>0</td>\n",
       "      <td>[go, until, jurong, point, ,, crazi, .., avail...</td>\n",
       "    </tr>\n",
       "    <tr>\n",
       "      <th>1</th>\n",
       "      <td>0</td>\n",
       "      <td>[ok, lar, ..., joke, wif, u, oni, ...]</td>\n",
       "    </tr>\n",
       "    <tr>\n",
       "      <th>2</th>\n",
       "      <td>1</td>\n",
       "      <td>[free, entri, in, 2, a, wkli, comp, to, win, f...</td>\n",
       "    </tr>\n",
       "    <tr>\n",
       "      <th>3</th>\n",
       "      <td>0</td>\n",
       "      <td>[u, dun, say, so, earli, hor, ..., u, c, alrea...</td>\n",
       "    </tr>\n",
       "    <tr>\n",
       "      <th>4</th>\n",
       "      <td>0</td>\n",
       "      <td>[nah, i, do, n't, think, he, goe, to, usf, ,, ...</td>\n",
       "    </tr>\n",
       "  </tbody>\n",
       "</table>\n",
       "</div>"
      ],
      "text/plain": [
       "   label                                            message\n",
       "0      0  [go, until, jurong, point, ,, crazi, .., avail...\n",
       "1      0             [ok, lar, ..., joke, wif, u, oni, ...]\n",
       "2      1  [free, entri, in, 2, a, wkli, comp, to, win, f...\n",
       "3      0  [u, dun, say, so, earli, hor, ..., u, c, alrea...\n",
       "4      0  [nah, i, do, n't, think, he, goe, to, usf, ,, ..."
      ]
     },
     "execution_count": 14,
     "metadata": {},
     "output_type": "execute_result"
    }
   ],
   "source": [
    "df2.head()"
   ]
  },
  {
   "cell_type": "markdown",
   "metadata": {},
   "source": [
    "## 4.  Data Preprocessing using sklearn"
   ]
  },
  {
   "cell_type": "markdown",
   "metadata": {},
   "source": [
    "### Counting words - example first\n",
    "\n",
    "Convert a collection of text documents to a matrix of token counts"
   ]
  },
  {
   "cell_type": "code",
   "execution_count": 15,
   "metadata": {},
   "outputs": [
    {
     "name": "stdout",
     "output_type": "stream",
     "text": [
      "['and' 'document' 'first' 'is' 'one' 'second' 'the' 'third' 'this']\n",
      "\n",
      "  (0, 8)\t1\n",
      "  (0, 3)\t1\n",
      "  (0, 6)\t1\n",
      "  (0, 2)\t1\n",
      "  (0, 1)\t1\n",
      "  (1, 8)\t1\n",
      "  (1, 3)\t1\n",
      "  (1, 6)\t1\n",
      "  (1, 1)\t2\n",
      "  (1, 5)\t1\n",
      "  (2, 8)\t1\n",
      "  (2, 3)\t1\n",
      "  (2, 6)\t1\n",
      "  (2, 0)\t1\n",
      "  (2, 7)\t1\n",
      "  (2, 4)\t1\n",
      "  (3, 8)\t1\n",
      "  (3, 3)\t1\n",
      "  (3, 6)\t1\n",
      "  (3, 2)\t1\n",
      "  (3, 1)\t1\n",
      "\n",
      "[[0 1 1 1 0 0 1 0 1]\n",
      " [0 2 0 1 0 1 1 0 1]\n",
      " [1 0 0 1 1 0 1 1 1]\n",
      " [0 1 1 1 0 0 1 0 1]]\n"
     ]
    }
   ],
   "source": [
    "from sklearn.feature_extraction.text import CountVectorizer\n",
    "text_collection = ['This is the first document.',\n",
    "                   'This document is the second document.',\n",
    "                   'And this is the third one.',\n",
    "                   'Is this the first document?']\n",
    "\n",
    "vectorizer = CountVectorizer()\n",
    "X = vectorizer.fit_transform(text_collection) # vocabulary dictionary of all tokens in documents, aka: features\n",
    "\n",
    "print(vectorizer.get_feature_names_out())   # prints the distinct words\n",
    "print ()\n",
    "\n",
    "print (X)           # first index - line of text\n",
    "                    # secobd index - index of feature that appears in the line. \n",
    "                    # second index is oredered by features array not by order in which they appear in the line \n",
    "print ()\n",
    "print(X.toarray())  # Each row of the matrix indicates which features appear in the correspoding line \n",
    "                    # (order is not preserved, of course). For example, in row 2, the seond value is 2, \n",
    "                    # which means that the feature 'document' appears twice in the second line. As is the case"
   ]
  },
  {
   "cell_type": "markdown",
   "metadata": {},
   "source": [
    "### Word count per message on df2"
   ]
  },
  {
   "cell_type": "code",
   "execution_count": 16,
   "metadata": {},
   "outputs": [
    {
     "data": {
      "text/html": [
       "<div>\n",
       "<style scoped>\n",
       "    .dataframe tbody tr th:only-of-type {\n",
       "        vertical-align: middle;\n",
       "    }\n",
       "\n",
       "    .dataframe tbody tr th {\n",
       "        vertical-align: top;\n",
       "    }\n",
       "\n",
       "    .dataframe thead th {\n",
       "        text-align: right;\n",
       "    }\n",
       "</style>\n",
       "<table border=\"1\" class=\"dataframe\">\n",
       "  <thead>\n",
       "    <tr style=\"text-align: right;\">\n",
       "      <th></th>\n",
       "      <th>label</th>\n",
       "      <th>message</th>\n",
       "    </tr>\n",
       "  </thead>\n",
       "  <tbody>\n",
       "    <tr>\n",
       "      <th>0</th>\n",
       "      <td>0</td>\n",
       "      <td>go until jurong point , crazi .. avail onli in...</td>\n",
       "    </tr>\n",
       "    <tr>\n",
       "      <th>1</th>\n",
       "      <td>0</td>\n",
       "      <td>ok lar ... joke wif u oni ...</td>\n",
       "    </tr>\n",
       "    <tr>\n",
       "      <th>2</th>\n",
       "      <td>1</td>\n",
       "      <td>free entri in 2 a wkli comp to win fa cup fina...</td>\n",
       "    </tr>\n",
       "    <tr>\n",
       "      <th>3</th>\n",
       "      <td>0</td>\n",
       "      <td>u dun say so earli hor ... u c alreadi then sa...</td>\n",
       "    </tr>\n",
       "    <tr>\n",
       "      <th>4</th>\n",
       "      <td>0</td>\n",
       "      <td>nah i do n't think he goe to usf , he live aro...</td>\n",
       "    </tr>\n",
       "  </tbody>\n",
       "</table>\n",
       "</div>"
      ],
      "text/plain": [
       "   label                                            message\n",
       "0      0  go until jurong point , crazi .. avail onli in...\n",
       "1      0                      ok lar ... joke wif u oni ...\n",
       "2      1  free entri in 2 a wkli comp to win fa cup fina...\n",
       "3      0  u dun say so earli hor ... u c alreadi then sa...\n",
       "4      0  nah i do n't think he goe to usf , he live aro..."
      ]
     },
     "execution_count": 16,
     "metadata": {},
     "output_type": "execute_result"
    }
   ],
   "source": [
    "# This converts the list of words into space-separated strings - so we're back to a phrase for each message \n",
    "df3 = df2.copy()\n",
    "df3['message'] = df3['message'].apply(lambda x: ' '.join(x))\n",
    "df3.head()"
   ]
  },
  {
   "cell_type": "code",
   "execution_count": 17,
   "metadata": {},
   "outputs": [],
   "source": [
    "count_vect = CountVectorizer()\n",
    "counts = count_vect.fit_transform(df3['message'])"
   ]
  },
  {
   "cell_type": "code",
   "execution_count": 18,
   "metadata": {},
   "outputs": [
    {
     "name": "stdout",
     "output_type": "stream",
     "text": [
      "['00' '000' '000pe' ... 'èn' 'ú1' '〨ud']\n"
     ]
    }
   ],
   "source": [
    "print(count_vect.get_feature_names_out())"
   ]
  },
  {
   "cell_type": "code",
   "execution_count": 19,
   "metadata": {},
   "outputs": [
    {
     "name": "stdout",
     "output_type": "stream",
     "text": [
      "  (0, 3121)\t1\n",
      "  (0, 6911)\t1\n",
      "  (0, 3811)\t1\n",
      "  (0, 5163)\t1\n",
      "  (0, 2092)\t1\n",
      "  (0, 1247)\t1\n",
      "  (0, 4834)\t1\n",
      "  (0, 3580)\t1\n",
      "  (0, 1640)\t1\n",
      "  (0, 3199)\t1\n",
      "  (0, 7301)\t1\n",
      "  (0, 3922)\t1\n",
      "  (0, 1638)\t1\n",
      "  (0, 1880)\t1\n",
      "  (0, 6575)\t1\n",
      "  (0, 3161)\t1\n",
      "  (0, 1053)\t1\n",
      "  (0, 7112)\t1\n",
      "  (1, 4805)\t1\n",
      "  (1, 3954)\t1\n",
      "  (1, 3777)\t1\n",
      "  (1, 7220)\t1\n",
      "  (1, 4832)\t1\n",
      "  (2, 3580)\t1\n",
      "  (2, 2951)\t1\n",
      "  :\t:\n",
      "  (5570, 3688)\t1\n",
      "  (5570, 7148)\t1\n",
      "  (5570, 1066)\t1\n",
      "  (5570, 4036)\t1\n",
      "  (5570, 6072)\t1\n",
      "  (5570, 2909)\t1\n",
      "  (5570, 6556)\t1\n",
      "  (5570, 1366)\t1\n",
      "  (5570, 4646)\t1\n",
      "  (5570, 2313)\t1\n",
      "  (5570, 6942)\t1\n",
      "  (5570, 1664)\t1\n",
      "  (5570, 6081)\t1\n",
      "  (5570, 1668)\t1\n",
      "  (5570, 2569)\t1\n",
      "  (5570, 3048)\t1\n",
      "  (5570, 3243)\t1\n",
      "  (5570, 3644)\t1\n",
      "  (5570, 907)\t1\n",
      "  (5570, 1463)\t1\n",
      "  (5571, 6669)\t1\n",
      "  (5571, 3688)\t2\n",
      "  (5571, 4565)\t1\n",
      "  (5571, 6783)\t1\n",
      "  (5571, 5619)\t1\n"
     ]
    }
   ],
   "source": [
    "print (counts)  "
   ]
  },
  {
   "cell_type": "markdown",
   "metadata": {},
   "source": [
    " Observe that first index runs until 5571, because there 5572 messages"
   ]
  },
  {
   "cell_type": "code",
   "execution_count": 20,
   "metadata": {},
   "outputs": [
    {
     "name": "stdout",
     "output_type": "stream",
     "text": [
      "[[0 0 0 ... 0 0 0]\n",
      " [0 0 0 ... 0 0 0]\n",
      " [0 0 0 ... 0 0 0]\n",
      " ...\n",
      " [0 0 0 ... 0 0 0]\n",
      " [0 0 0 ... 0 0 0]\n",
      " [0 0 0 ... 0 0 0]]\n"
     ]
    }
   ],
   "source": [
    "print(counts.toarray())  # this is a very sparse matrix"
   ]
  },
  {
   "cell_type": "code",
   "execution_count": 21,
   "metadata": {},
   "outputs": [
    {
     "name": "stdout",
     "output_type": "stream",
     "text": [
      "(5572, 7456)\n",
      "0\n",
      "  (0, 3121)\t1\n",
      "  (0, 6911)\t1\n",
      "  (0, 3811)\t1\n",
      "  (0, 5163)\t1\n",
      "  (0, 2092)\t1\n",
      "  (0, 1247)\t1\n",
      "  (0, 4834)\t1\n",
      "  (0, 3580)\t1\n",
      "  (0, 1640)\t1\n",
      "  (0, 3199)\t1\n",
      "  (0, 7301)\t1\n",
      "  (0, 3922)\t1\n",
      "  (0, 1638)\t1\n",
      "  (0, 1880)\t1\n",
      "  (0, 6575)\t1\n",
      "  (0, 3161)\t1\n",
      "  (0, 1053)\t1\n",
      "  (0, 7112)\t1\n",
      "  (1, 4805)\t1\n",
      "  (1, 3954)\t1\n",
      "  (1, 3777)\t1\n",
      "  (1, 7220)\t1\n",
      "  (1, 4832)\t1\n",
      "  (2, 3580)\t1\n",
      "  (2, 2951)\t1\n",
      "  :\t:\n",
      "  (5570, 3688)\t1\n",
      "  (5570, 7148)\t1\n",
      "  (5570, 1066)\t1\n",
      "  (5570, 4036)\t1\n",
      "  (5570, 6072)\t1\n",
      "  (5570, 2909)\t1\n",
      "  (5570, 6556)\t1\n",
      "  (5570, 1366)\t1\n",
      "  (5570, 4646)\t1\n",
      "  (5570, 2313)\t1\n",
      "  (5570, 6942)\t1\n",
      "  (5570, 1664)\t1\n",
      "  (5570, 6081)\t1\n",
      "  (5570, 1668)\t1\n",
      "  (5570, 2569)\t1\n",
      "  (5570, 3048)\t1\n",
      "  (5570, 3243)\t1\n",
      "  (5570, 3644)\t1\n",
      "  (5570, 907)\t1\n",
      "  (5570, 1463)\t1\n",
      "  (5571, 6669)\t1\n",
      "  (5571, 3688)\t2\n",
      "  (5571, 4565)\t1\n",
      "  (5571, 6783)\t1\n",
      "  (5571, 5619)\t1\n"
     ]
    }
   ],
   "source": [
    "print (counts.shape)\n",
    "print (counts[0,7191])\n",
    "\n",
    "print (counts) "
   ]
  },
  {
   "cell_type": "markdown",
   "metadata": {},
   "source": [
    "## 5. Training the model"
   ]
  },
  {
   "cell_type": "code",
   "execution_count": 22,
   "metadata": {},
   "outputs": [
    {
     "name": "stdout",
     "output_type": "stream",
     "text": [
      "(5014, 7456)\n",
      "(5014,)\n",
      "(558, 7456)\n"
     ]
    }
   ],
   "source": [
    "from sklearn.model_selection import train_test_split\n",
    "\n",
    "# split data into train and test\n",
    "X_train, X_test, y_train, y_test = train_test_split(counts, df['label'], test_size=0.1, random_state=120)\n",
    "\n",
    "print (X_train.shape)   # each row has 7536 features (all possible words) \n",
    "print (y_train.shape)   # recall, label is ham or spam (1 or 0)\n",
    "print (X_test.shape)\n",
    "\n"
   ]
  },
  {
   "cell_type": "markdown",
   "metadata": {},
   "source": [
    "Initialize a Naive Bayes Classifier and fit the data. For text classification problems, the Multinomial Naive Bayes Classifier is well-suited."
   ]
  },
  {
   "cell_type": "code",
   "execution_count": 23,
   "metadata": {},
   "outputs": [],
   "source": [
    "from sklearn.naive_bayes import MultinomialNB\n",
    "\n",
    "model = MultinomialNB().fit(X_train, y_train)"
   ]
  },
  {
   "cell_type": "markdown",
   "metadata": {},
   "source": [
    "## 6. Evaluating the Model\n"
   ]
  },
  {
   "cell_type": "code",
   "execution_count": 24,
   "metadata": {},
   "outputs": [
    {
     "name": "stdout",
     "output_type": "stream",
     "text": [
      "Model accuracy on test set: 98.4%\n"
     ]
    }
   ],
   "source": [
    "import numpy as np\n",
    "\n",
    "y_test_pred = model.predict(X_test)\n",
    "print('Model accuracy on test set: %.1f%%' % (100*np.mean(y_test_pred == y_test)))"
   ]
  },
  {
   "cell_type": "markdown",
   "metadata": {},
   "source": [
    "The Naive Bayes Classifier has 98.2% accuracy on this specific test set. Is this good? Well, maybe... \n",
    "\n",
    "The data is skewed. 86.6% is ham and 13.4% is spam. So a really dumb classifier that classifies all messages as ham would have a 86.6% accuracy. "
   ]
  },
  {
   "cell_type": "code",
   "execution_count": null,
   "metadata": {},
   "outputs": [],
   "source": []
  },
  {
   "cell_type": "markdown",
   "metadata": {},
   "source": [
    "# Exercise:\n",
    "\n",
    "1. Print the confusion matrix\n",
    "2. What are the precision and recall and F1 scores?\n",
    "3. Plot ROC, and calculate AUC\n",
    "4. What is your conclusion?"
   ]
  },
  {
   "cell_type": "markdown",
   "metadata": {
    "collapsed": true
   },
   "source": [
    "# Solution:"
   ]
  },
  {
   "cell_type": "code",
   "execution_count": 82,
   "metadata": {},
   "outputs": [
    {
     "data": {
      "text/plain": [
       "<sklearn.metrics._plot.confusion_matrix.ConfusionMatrixDisplay at 0x13449bbdd30>"
      ]
     },
     "execution_count": 82,
     "metadata": {},
     "output_type": "execute_result"
    },
    {
     "data": {
      "image/png": "[encoded data removed]",
      "text/plain": [
       "<Figure size 640x480 with 2 Axes>"
      ]
     },
     "metadata": {},
     "output_type": "display_data"
    }
   ],
   "source": [
    "#1\n",
    "from sklearn.metrics import ConfusionMatrixDisplay\n",
    "\n",
    "ConfusionMatrixDisplay.from_predictions(y_test,y_test_pred)\n",
    "\n"
   ]
  },
  {
   "cell_type": "code",
   "execution_count": 77,
   "metadata": {},
   "outputs": [
    {
     "name": "stdout",
     "output_type": "stream",
     "text": [
      "Precision:  [0.99573561 0.93220339]\n",
      "Recall:  [0.98731501 0.97633136]\n",
      "F1-score:  [0.99150743 0.95375723]\n"
     ]
    }
   ],
   "source": [
    "#2\n",
    "from sklearn.metrics import precision_recall_fscore_support\n",
    "\n",
    "precision, recall, f1_score, _ = precision_recall_fscore_support(y_test, y_test_pred)\n",
    "\n",
    "print(\"Precision: \", precision)\n",
    "print(\"Recall: \", recall)\n",
    "print(\"F1-score: \", f1_score)"
   ]
  },
  {
   "cell_type": "code",
   "execution_count": 32,
   "metadata": {},
   "outputs": [
    {
     "data": {
      "image/png": "[encoded data removed]",
      "text/plain": [
       "<Figure size 640x480 with 1 Axes>"
      ]
     },
     "metadata": {},
     "output_type": "display_data"
    }
   ],
   "source": [
    "#3\n",
    "from sklearn.metrics import roc_curve, auc\n",
    "y_prob = model.predict_proba(X_test)[:, 1]\n",
    "fpr, tpr, thresholds = roc_curve(y_test, y_prob)\n",
    "roc_auc = auc(fpr, tpr)\n",
    "plt.plot(fpr, tpr, lw=1,color='darkorange', label='Naive Bayes (AUC = %f)' % roc_auc)\n",
    "plt.plot([0, 1], [0, 1], '--', color='navy', label='Random')\n",
    "plt.xlim([0.0, 1.0])\n",
    "plt.ylim([0.0, 1.0])\n",
    "plt.xlabel('False Positive Rate')\n",
    "plt.ylabel('True Positive Rate')\n",
    "plt.title('ROC Curve')\n",
    "plt.legend(loc=\"lower right\")\n",
    "plt.show()"
   ]
  },
  {
   "cell_type": "markdown",
   "metadata": {},
   "source": [
    "# 4.conclusion:\n",
    "\n",
    "### The Naive Bayes model got hige scores of precision, recall and f1 score that goes along with the 98.2% accuracy  that show better result then prior model with prabability of 86%. The ROC curve shows us that the TP rate and FP get the heighst score to one when the classfier is in low precent of the data, that showes us like the data the very small amount of spam(13%) can classficy best close to that.The rest of curve get more FP rate greater in the rest of the curve like the Naive Baise strong assumption of independence between the features, so it would be biased and less flexible like our data.\n"
   ]
  }
 ],
 "metadata": {
  "kernelspec": {
   "display_name": "Python 3 (ipykernel)",
   "language": "python",
   "name": "python3"
  },
  "language_info": {
   "codemirror_mode": {
    "name": "ipython",
    "version": 3
   },
   "file_extension": ".py",
   "mimetype": "text/x-python",
   "name": "python",
   "nbconvert_exporter": "python",
   "pygments_lexer": "ipython3",
   "version": "3.9.13"
  }
 },
 "nbformat": 4,
 "nbformat_minor": 2
}
